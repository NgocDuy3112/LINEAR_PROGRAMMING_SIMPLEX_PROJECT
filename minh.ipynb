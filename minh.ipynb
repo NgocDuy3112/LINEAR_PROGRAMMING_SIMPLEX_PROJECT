{
 "cells": [
  {
   "cell_type": "code",
   "execution_count": null,
   "metadata": {},
   "outputs": [],
   "source": [
    "import numpy as np\n",
    "from scipy.optimize import linprog"
   ]
  },
  {
   "cell_type": "code",
   "execution_count": null,
   "metadata": {},
   "outputs": [],
   "source": [
    "class BlandSimplexSolver():\n",
    "    def __init__(self, A, b, c, type='min'):\n",
    "        self.A = A\n",
    "        self.b = b\n",
    "        self.c = c\n",
    "        self.type = type\n",
    "        self.tableau = np.zeros((self.A.shape[0] + 1, self.A.shape[1] + self.A.shape[0] + 1))\n",
    "    \n",
    "    def __create__tableau__(self):\n",
    "        pass\n",
    "\n",
    "    def __find_pivot__(self):\n",
    "        pass\n",
    "\n",
    "    def __pivot__(self):\n",
    "        pass\n",
    "\n",
    "    def __get_basic__(self):\n",
    "        pass\n",
    "\n",
    "    def __get_non_basic__(self):\n",
    "        pass\n",
    "\n",
    "    def __get_tableau__(self):\n",
    "        pass\n",
    "\n",
    "    def __get_optimal_value__(self):\n",
    "        pass\n",
    "\n",
    "    def __get_optimal_solution__(self):\n",
    "        pass\n",
    "\n",
    "    def __get_status__(self):\n",
    "        pass\n",
    "\n",
    "    def solve(self):\n",
    "        pass\n",
    "\n",
    "    def get_solution(self, slack=False):\n",
    "        return self.__get_solution__(slack) if self.__get_status__() == 'optimal' else np.inf\n",
    "\n",
    "    def get_optimal_value(self):\n",
    "        return self.__get_optimal_value__()\n",
    "    \n",
    "    def get_status(self):\n",
    "        return self.__get_status__()"
   ]
  }
 ],
 "metadata": {
  "language_info": {
   "name": "python"
  },
  "orig_nbformat": 4
 },
 "nbformat": 4,
 "nbformat_minor": 2
}
